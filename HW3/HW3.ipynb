{
 "cells": [
  {
   "cell_type": "markdown",
   "metadata": {},
   "source": [
    "# Задача 1"
   ]
  },
  {
   "cell_type": "code",
   "execution_count": 8,
   "metadata": {},
   "outputs": [],
   "source": [
    "import numpy as np"
   ]
  },
  {
   "cell_type": "code",
   "execution_count": 9,
   "metadata": {},
   "outputs": [],
   "source": [
    "def solution(a):\n",
    "    n = 0\n",
    "    for i in range(0, len(a)):\n",
    "        for j in range (i+1, len(a)):\n",
    "            if(i + a[i] >= j - a[j]):\n",
    "                n+=1\n",
    "    if (n>100000):\n",
    "        return -1\n",
    "    return n\n",
    "    \n",
    "    "
   ]
  },
  {
   "cell_type": "code",
   "execution_count": 10,
   "metadata": {},
   "outputs": [
    {
     "data": {
      "text/plain": [
       "11"
      ]
     },
     "execution_count": 10,
     "metadata": {},
     "output_type": "execute_result"
    }
   ],
   "source": [
    "N = 6\n",
    "A = np.zeros(N)\n",
    "A[0] = 1\n",
    "A[1] = 5\n",
    "A[2] = 2\n",
    "A[3] = 1\n",
    "A[4] = 4\n",
    "A[5] = 0\n",
    "solution(A)"
   ]
  },
  {
   "cell_type": "markdown",
   "metadata": {},
   "source": [
    "# Задача 2\n",
    "\n"
   ]
  },
  {
   "cell_type": "code",
   "execution_count": 11,
   "metadata": {},
   "outputs": [],
   "source": [
    "def solution(a,n):\n",
    "    res = a[0]\n",
    "    index = 0\n",
    "    for i in range(1,n):\n",
    "        res ^= a[i]\n",
    "    return res\n"
   ]
  },
  {
   "cell_type": "code",
   "execution_count": 12,
   "metadata": {},
   "outputs": [
    {
     "data": {
      "text/plain": [
       "7"
      ]
     },
     "execution_count": 12,
     "metadata": {},
     "output_type": "execute_result"
    }
   ],
   "source": [
    "B = [9,3,9,3,9,7,9]\n",
    "solution(B,len(B))\n"
   ]
  },
  {
   "cell_type": "markdown",
   "metadata": {},
   "source": [
    "# Задача 3\n"
   ]
  },
  {
   "cell_type": "code",
   "execution_count": 13,
   "metadata": {},
   "outputs": [],
   "source": [
    "def solution(a,b,n):\n",
    "    array = np.stack((a,b),axis=1)\n",
    "    alive = n\n",
    "    stack = []\n",
    "    for i in range (n):\n",
    "        if (array[i][1] == 1):\n",
    "            stack.append(array[i][0])\n",
    "        else:\n",
    "            while len(stack):\n",
    "                if (stack[-1]>array[i][0]):\n",
    "                    alive -= 1\n",
    "                    #print('alive ',stack[-1])\n",
    "                    break\n",
    "                if(stack[-1]< array[i][0]):\n",
    "                    alive -= 1\n",
    "                    #print('alive ',array[i][0])\n",
    "                    stack.pop()\n",
    "    return alive"
   ]
  },
  {
   "cell_type": "code",
   "execution_count": 14,
   "metadata": {},
   "outputs": [
    {
     "data": {
      "text/plain": [
       "2"
      ]
     },
     "execution_count": 14,
     "metadata": {},
     "output_type": "execute_result"
    }
   ],
   "source": [
    "a=np.array([4,3,2,1,5])\n",
    "b=np.array([0,1,0,0,0])\n",
    "solution(a,b,len(a))\n"
   ]
  },
  {
   "cell_type": "code",
   "execution_count": null,
   "metadata": {},
   "outputs": [],
   "source": []
  }
 ],
 "metadata": {
  "kernelspec": {
   "display_name": "Python 3",
   "language": "python",
   "name": "python3"
  }
 },
 "nbformat": 4,
 "nbformat_minor": 4
}
